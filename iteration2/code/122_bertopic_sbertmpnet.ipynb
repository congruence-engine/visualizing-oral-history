{
 "cells": [
  {
   "cell_type": "code",
   "execution_count": null,
   "metadata": {
    "ExecuteTime": {
     "end_time": "2023-11-07T21:32:36.257178Z",
     "start_time": "2023-11-07T21:32:13.213769Z"
    }
   },
   "outputs": [],
   "source": [
    "# Depends on:\n",
    "#     code/analysis/101_segments_embeddings.py\n",
    "#     code/analysis/102_museum_objects_embeddings.py\n",
    "#     code/analysis/121_dim_reduction_test.py\n",
    "\n",
    "# Local setup\n",
    "from local_dir_setup import *\n",
    "\n",
    "# Libraries\n",
    "import os\n",
    "import string\n",
    "import pandas as pd\n",
    "import pickle\n",
    "from sklearn.feature_extraction.text import CountVectorizer\n",
    "from umap import UMAP\n",
    "from bertopic import BERTopic\n",
    "import plotly.express as px"
   ]
  },
  {
   "attachments": {},
   "cell_type": "markdown",
   "metadata": {},
   "source": [
    "## Load Data"
   ]
  },
  {
   "cell_type": "code",
   "execution_count": null,
   "metadata": {
    "ExecuteTime": {
     "end_time": "2023-11-07T21:32:36.265479Z",
     "start_time": "2023-11-07T21:32:36.261368Z"
    },
    "collapsed": false
   },
   "outputs": [],
   "source": [
    "# Setup\n",
    "file_trans_mpnet = dir_storage +  \"---transcripts-embeddings-file---\"  # Folder with the embeddings from 101_segments_embeddings.py\n",
    "file_museum_mpnet = dir_storage + \"---museum-objects-embeddings-file---\" # Folder with the embeddings from 102_museum_objects_embeddings.py"
   ]
  },
  {
   "cell_type": "code",
   "execution_count": null,
   "metadata": {
    "ExecuteTime": {
     "end_time": "2023-11-07T21:32:36.311866Z",
     "start_time": "2023-11-07T21:32:36.271143Z"
    }
   },
   "outputs": [],
   "source": [
    "# Load embeddings\n",
    "# see also https://www.sbert.net/examples/applications/computing-embeddings/README.html\n",
    "\n",
    "with open(file_trans_mpnet, \"rb\") as fIn:\n",
    "   data_trans_mpnet = pickle.load(fIn)\n",
    "   trans_id_mpnet = data_trans_mpnet[\"transcript\"]\n",
    "   trans_start_id_mpnet = data_trans_mpnet[\"start_id\"]\n",
    "   trans_start_time_mpnet = data_trans_mpnet[\"start_time\"]\n",
    "   trans_end_id_mpnet = data_trans_mpnet[\"end_id\"]\n",
    "   trans_end_time_mpnet = data_trans_mpnet[\"end_time\"]\n",
    "   trans_text_mpnet = data_trans_mpnet[\"text\"]\n",
    "   trans_embeddings_mpnet = data_trans_mpnet[\"embeddings_sbert_mpnet\"]"
   ]
  },
  {
   "cell_type": "markdown",
   "metadata": {
    "collapsed": false
   },
   "source": [
    "## BERTopic"
   ]
  },
  {
   "cell_type": "code",
   "execution_count": null,
   "metadata": {
    "ExecuteTime": {
     "end_time": "2023-11-07T21:32:36.312476Z",
     "start_time": "2023-11-07T21:32:36.293954Z"
    },
    "collapsed": false
   },
   "outputs": [],
   "source": [
    "from hdbscan import HDBSCAN\n",
    "from bertopic.vectorizers import ClassTfidfTransformer\n",
    "from bertopic.representation import KeyBERTInspired"
   ]
  },
  {
   "cell_type": "code",
   "execution_count": null,
   "metadata": {
    "ExecuteTime": {
     "end_time": "2023-11-07T21:32:48.824933Z",
     "start_time": "2023-11-07T21:32:36.315854Z"
    }
   },
   "outputs": [],
   "source": [
    "umap_model = UMAP(n_neighbors=16, n_components=2, min_dist=0.0, metric=\"cosine\")\n",
    "hdbscan_model = HDBSCAN(min_cluster_size=8, metric=\"euclidean\", cluster_selection_method=\"eom\")\n",
    "ctfidf_model = ClassTfidfTransformer(bm25_weighting=True)\n",
    "\n",
    "topic_model = BERTopic(\n",
    "    vectorizer_model=CountVectorizer(stop_words=\"english\"),\n",
    "    umap_model=umap_model,\n",
    "    hdbscan_model=hdbscan_model,\n",
    "    # Topic representation\n",
    "    ctfidf_model=ctfidf_model\n",
    "    #nr_topics=\"auto\",\n",
    "    #n_gram_range=(2, 3)\n",
    ")\n",
    "\n",
    "topics, probs = topic_model.fit_transform(documents=trans_text_mpnet, embeddings=trans_embeddings_mpnet)\n",
    "\n",
    "topic_model.get_topic_info()"
   ]
  },
  {
   "cell_type": "code",
   "execution_count": null,
   "metadata": {
    "ExecuteTime": {
     "end_time": "2023-11-07T21:32:54.943371Z",
     "start_time": "2023-11-07T21:32:48.830449Z"
    },
    "collapsed": false
   },
   "outputs": [],
   "source": [
    "reduced_embeddings = UMAP(n_neighbors=16, n_components=2, min_dist=0.0, metric=\"cosine\").fit_transform(trans_embeddings_mpnet)\n",
    "topic_model.visualize_documents(trans_text_mpnet, reduced_embeddings=reduced_embeddings)"
   ]
  },
  {
   "cell_type": "code",
   "execution_count": null,
   "metadata": {},
   "outputs": [],
   "source": [
    "data_with_topics = pd.concat([\n",
    "    trans_id_mpnet,\n",
    "    trans_start_id_mpnet,\n",
    "    trans_start_time_mpnet,\n",
    "    trans_end_id_mpnet,\n",
    "    trans_end_time_mpnet,\n",
    "    trans_text_mpnet,\n",
    "    topic_model.get_document_info(trans_text_mpnet).drop(columns=[\"Document\", \"Representative_document\"]).rename(columns={\n",
    "        \"Topic\": \"bertopic_topic\",\n",
    "        \"Name\": \"bertopic_topic_name\",\n",
    "        \"Top_n_words\": \"bertopic_topic_topwords\",\n",
    "        \"Probability\": \"bertopic_probability\"\n",
    "    }),\n",
    "    pd.DataFrame(reduced_embeddings, columns = [\"UMAP1\",\"UMAP2\"])\n",
    "    ], axis=1)\n",
    "\n",
    "data_with_topics"
   ]
  },
  {
   "cell_type": "markdown",
   "metadata": {
    "collapsed": false
   },
   "source": [
    "## Join with museum data and save"
   ]
  },
  {
   "cell_type": "code",
   "execution_count": null,
   "metadata": {
    "collapsed": false
   },
   "outputs": [],
   "source": [
    "top_museum_object = pd.read_csv(dir_storage + \"---museum-objects-topics-file---\") # Output from 121_matching_museum_objects.py"
   ]
  },
  {
   "cell_type": "code",
   "execution_count": null,
   "metadata": {
    "ExecuteTime": {
     "end_time": "2023-11-07T21:32:54.961794Z",
     "start_time": "2023-11-07T21:32:54.959434Z"
    },
    "collapsed": false
   },
   "outputs": [],
   "source": [
    "data_with_topics_and_museumobj = data_with_topics.merge(\n",
    "    top_museum_object.drop(\n",
    "        columns=[\"trans_start_time\", \"trans_end_time\", \"trans_text\"]\n",
    "    ).rename(columns={\n",
    "        \"trans_id\": \"transcript\",\n",
    "        \"trans_start_id\": \"start_id\",\n",
    "        \"trans_end_id\": \"end_id\",\n",
    "        \"similarity_mpnet\": \"museum_sim_mpnet\"\n",
    "    }),\n",
    "    on=[\"transcript\", \"start_id\", \"end_id\"]\n",
    ")\n",
    "\n",
    "data_with_topics_and_museumobj"
   ]
  },
  {
   "cell_type": "code",
   "execution_count": null,
   "metadata": {
    "ExecuteTime": {
     "end_time": "2023-11-07T21:32:55.015302Z",
     "start_time": "2023-11-07T21:32:54.960015Z"
    },
    "collapsed": false
   },
   "outputs": [],
   "source": [
    "data_with_topics_and_museumobj.to_csv(\n",
    "    dir_storage + \"---transcripts-objects-topics-file---\",\n",
    "    index=False\n",
    ")"
   ]
  }
 ],
 "metadata": {
  "kernelspec": {
   "display_name": "Python 3.10.9 ('visualise_oral_history')",
   "language": "python",
   "name": "python3"
  },
  "language_info": {
   "codemirror_mode": {
    "name": "ipython",
    "version": 3
   },
   "file_extension": ".py",
   "mimetype": "text/x-python",
   "name": "python",
   "nbconvert_exporter": "python",
   "pygments_lexer": "ipython3",
   "version": "3.10.9"
  },
  "orig_nbformat": 4,
  "vscode": {
   "interpreter": {
    "hash": "94ea719c9e81fd0ea17877c827cf8b9748d9823f56b207d834eae83edf22e273"
   }
  }
 },
 "nbformat": 4,
 "nbformat_minor": 2
}
